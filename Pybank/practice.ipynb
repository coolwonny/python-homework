{
 "cells": [
  {
   "cell_type": "code",
   "execution_count": null,
   "metadata": {},
   "outputs": [],
   "source": [
    "In this activity, you are tasked with creating a Python script for analyzing the financial records of your company. You will be provided with a financial dataset in this file: budget_data.csv. This dataset is composed of two columns, Date and Profit/Losses. (Thankfully, your company has rather lax standards for accounting, so the records are simple.)\n",
    "Your task is to create a Python script that analyzes the records to calculate each of the following:\n",
    "\n",
    "\n",
    "The total number of months included in the dataset.\n",
    "\n",
    "\n",
    "The net total amount of Profit/Losses over the entire period.\n",
    "\n",
    "\n",
    "The average of the changes in Profit/Losses over the entire period.\n",
    "\n",
    "\n",
    "The greatest increase in profits (date and amount) over the entire period.\n",
    "\n",
    "\n",
    "The greatest decrease in losses (date and amount) over the entire period.\n",
    "\n",
    "\n",
    "Your resulting analysis should look similar to the following:\n",
    "   \n",
    "Financial Analysis\n",
    "----------------------------\n",
    "Total Months: 86\n",
    "Total: $38382578\n",
    "Average  Change: $-2315.12\n",
    "Greatest Increase in Profits: Feb-2012 ($1926159)\n",
    "Greatest Decrease in Profits: Sep-2013 ($-2196167)\n",
    "\n",
    "Your final script should print the analysis to the terminal and export a text file with the results."
   ]
  },
  {
   "cell_type": "code",
   "execution_count": 14,
   "metadata": {},
   "outputs": [
    {
     "name": "stdout",
     "output_type": "stream",
     "text": [
      "Financial Analysis\n",
      "----------------------------\n",
      "Total Months: 86\n",
      "Total: $38382578\n",
      "Average Change: $-2315.12\n",
      "Greatest Increase in Profits: Feb-2012 ($1926159)\n",
      "Greatest Decrease in Profits: Sep-2013 ($-2196167)\n"
     ]
    }
   ],
   "source": [
    "# import the pathlib and csv library\n",
    "from pathlib import Path\n",
    "import csv\n",
    "# Set the file path \n",
    "filepath = Path(\"budget_data.csv\")\n",
    "\n",
    "# Initialize list of records\n",
    "records = []\n",
    "total_month = 0\n",
    "total_pnl = 0\n",
    "total_change = 0\n",
    "count_change = 0\n",
    "minimum = 0\n",
    "minimum_index = 0\n",
    "maximum = 0\n",
    "maximum_index = 0\n",
    "change_dict = {} \n",
    "    \n",
    "# Open the csv file as an object\n",
    "with open(filepath, 'r') as file:\n",
    "\n",
    "# Pass in the csv file to the csv.reader() function and return the csvreader object\n",
    "      csvreader = csv.reader(file, delimiter=\",\")\n",
    "\n",
    "# Read the header row\n",
    "      header = next(csvreader)\n",
    "      header.append('Change in Profit and loss')\n",
    "   \n",
    "# Print the header row\n",
    " \n",
    "    \n",
    "# Append the header to the list of records\n",
    "      records.append(header)\n",
    "   \n",
    "# Read each row of data after the header\n",
    "      for index, row in enumerate(csvreader):\n",
    "#          for row in csvreader:\n",
    "           date = row[0]\n",
    "           profit_loss = int(row[1]) \n",
    "           total_month += 1\n",
    "           total_pnl += profit_loss\n",
    "           change_dict[index] = int(row[1])\n",
    "           \n",
    "           if   index == 0:\n",
    "                row.append(\"N/A\")\n",
    "                records.append(row)\n",
    "               \n",
    "           elif index >= 1:\n",
    "                change = change_dict[index] - change_dict[index - 1]\n",
    "                total_change += change\n",
    "                count_change += 1\n",
    "                row.append(change)\n",
    "                records.append(row)\n",
    "                if change <= minimum:\n",
    "                     minimum = change\n",
    "                     minimum_index = index + 1\n",
    "                elif change > maximum:\n",
    "                     maximum = change\n",
    "                     maximum_index = index + 1\n",
    "\n",
    "average = round(total_change / count_change, 2)     \n",
    "great_increase_date = records[maximum_index][0]\n",
    "great_decrease_date = records[minimum_index][0]\n",
    "\n",
    "output_path = Path(\"output.txt\")\n",
    "with open(output_path, 'w') as file:\n",
    "    csv_writer = csv.writer(file, delimiter=\",\")\n",
    "    for x in records:\n",
    "        csv_writer.writerow(x)\n",
    "\n",
    "print(\"Financial Analysis\")\n",
    "print(\"----------------------------\")\n",
    "print(f\"Total Months: {total_month}\")\n",
    "print(f\"Total: ${total_pnl}\")\n",
    "print(f\"Average Change: ${average}\")\n",
    "print(f\"Greatest Increase in Profits: {great_increase_date} (${maximum})\")\n",
    "print(f\"Greatest Decrease in Profits: {great_decrease_date} (${minimum})\")\n",
    "\n",
    "\n",
    "        "
   ]
  },
  {
   "cell_type": "code",
   "execution_count": 12,
   "metadata": {},
   "outputs": [
    {
     "name": "stdout",
     "output_type": "stream",
     "text": [
      "<function profit_change at 0x00000213DD10E678>\n"
     ]
    }
   ],
   "source": [
    "int_list = [-428211, -821271, 693918, 416278,\n",
    "            -974163, 860159, -1115009, 1033048, \n",
    "            95318, -308093, 99052, -521393, 605450]\n",
    "profit_change = []\n",
    "def profit_change(int_list):\n",
    "     for index in range(0, len(int_list)):\n",
    "            if index == 0 or index == len(int_list):\n",
    "                change = \"N/A\"\n",
    "            elif index != 0:\n",
    "                change = int_list[index] - int_list[index - 1]\n",
    "                profit_change.append(change)\n",
    "               \n",
    "            \n",
    "print(profit_change)"
   ]
  },
  {
   "cell_type": "code",
   "execution_count": 25,
   "metadata": {},
   "outputs": [
    {
     "name": "stdout",
     "output_type": "stream",
     "text": [
      "0 -428211\n",
      "1 -821271\n",
      "2 693918\n",
      "3 416278\n",
      "4 -974163\n",
      "5 860159\n",
      "6 -1115009\n",
      "7 1033048\n",
      "8 95318\n",
      "9 -308093\n",
      "10 99052\n",
      "11 -521393\n",
      "12 605450\n",
      "[-393060, 1515189, -277640, -1390441, 1834322, -1975168, 2148057, -937730, -403411, 407145, -620445, 1126843]\n"
     ]
    }
   ],
   "source": [
    "int_list = [-428211, -821271, 693918, 416278,\n",
    "            -974163, 860159, -1115009, 1033048, \n",
    "            95318, -308093, 99052, -521393, 605450]\n",
    "change = []\n",
    "\n",
    "for index, value in enumerate(int_list):\n",
    "    print(index, value)\n",
    "    if index == 0:\n",
    "       continue\n",
    "    change.append(int_list[index] - int_list[index - 1])\n",
    "print(change)"
   ]
  },
  {
   "cell_type": "code",
   "execution_count": 80,
   "metadata": {},
   "outputs": [
    {
     "name": "stdout",
     "output_type": "stream",
     "text": [
      "None\n"
     ]
    }
   ],
   "source": [
    "x = [[\"A\", 0], [\"B\", 1], [\"C\", 2], [\"D\", 3]]\n",
    "y = [100, 200, 300, 400]\n",
    "z = x.append(y)\n",
    "print(z)"
   ]
  },
  {
   "cell_type": "code",
   "execution_count": 108,
   "metadata": {},
   "outputs": [
    {
     "name": "stdout",
     "output_type": "stream",
     "text": [
      "[['Date', 'Profit/Losses', 'Profit/loss Change']]\n",
      "{0: 'N/A', 1: 116771, 2: 205242, 3: -274659, 4: 585162, 5: -62305, 6: 1095401, 7: -490516, 8: 274130, 9: 203402, 10: 690408, 11: -770761, 12: 1550567, 13: -1885770, 14: 2583615, 15: -1790452, 16: 2275522, 17: -1691400, 18: 1754129, 19: -1085950, 20: 1985856, 21: -1151137, 22: 1283140, 23: -973162, 24: 217596, 25: 952997, 26: -700209, 27: 1851727, 28: -1034471, 29: 1605228, 30: -1098526, 31: 75992, 32: 399070, 33: 380906, 34: -236731, 35: 779225, 36: -419892, 37: 741361, 38: -673581, 39: 1145016, 40: -579413, 41: 1451893, 42: -662413, 43: 1662355, 44: -2858580, 45: 3127577, 46: -3815563, 47: 4966024, 48: -4283566, 49: 4901422, 50: -4077324, 51: 4659267, 52: -4526403, 53: 4974465, 54: -4285304, 55: 5086005, 56: -3919362, 57: 4866695, 58: -4288027, 59: 5276532, 60: -4136817, 61: 5166288, 62: -4478755, 63: 3954129, 64: -3795509, 65: 3883304, 66: -3459915, 67: 4300638, 68: -3732109, 69: 4064176, 70: -3074677, 71: 3852914, 72: -3202914, 73: 2102527, 74: -2277473, 75: 3034616, 76: -2588907, 77: 3301868, 78: -4465665, 79: 5035564, 80: -4267114, 81: 4369799, 82: -3573885, 83: 3634873, 84: -3496643, 85: 4167742}\n"
     ]
    }
   ],
   "source": [
    "# import the pathlib and csv library\n",
    "from pathlib import Path\n",
    "import csv\n",
    "# Set the file path \n",
    "filepath = Path(\"budget_data.csv\")\n",
    "\n",
    "# Initialize list of records\n",
    "records = []\n",
    "total_month = 0\n",
    "total_pnl = 0\n",
    "int_list = []\n",
    "profit_change = []\n",
    "index = 0\n",
    "x = {}\n",
    "    \n",
    "# Open the csv file as an object\n",
    "with open(filepath, 'r') as file:\n",
    "\n",
    "# Pass in the csv file to the csv.reader() function and return the csvreader object\n",
    "      csvreader = csv.reader(file, delimiter=\",\")\n",
    "\n",
    "# Read the header row\n",
    "      header = next(csvreader)\n",
    "      header.append('Profit/loss Change')\n",
    "      records.append(header)\n",
    "# Print the header row\n",
    "      print(records)\n",
    "    \n",
    "# Append the header to the list of records\n",
    "      records.append(header)\n",
    "      change_dict = {} \n",
    "# Read each row of data after the header\n",
    "      for index, row in enumerate(csvreader):\n",
    "          change_dict[index] = int(row[1])\n",
    "         \n",
    "          if index >= 1:\n",
    "             change = change_dict[index] - change_dict[index - 1]\n",
    "             change_dict[index] = change\n",
    "            \n",
    "change_dict[0] = \"N/A\"\n",
    "print(change_dict)\n",
    "\n",
    "#           date = row[0]\n",
    "#           profit_loss = int(row[1]) \n",
    "#           total_month += 1\n",
    "#           total_pnl += profit_loss\n",
    "#           change = profit_loss - profit_loss"
   ]
  },
  {
   "cell_type": "code",
   "execution_count": null,
   "metadata": {},
   "outputs": [],
   "source": []
  }
 ],
 "metadata": {
  "kernelspec": {
   "display_name": "Python 3",
   "language": "python",
   "name": "python3"
  },
  "language_info": {
   "codemirror_mode": {
    "name": "ipython",
    "version": 3
   },
   "file_extension": ".py",
   "mimetype": "text/x-python",
   "name": "python",
   "nbconvert_exporter": "python",
   "pygments_lexer": "ipython3",
   "version": "3.7.7"
  }
 },
 "nbformat": 4,
 "nbformat_minor": 4
}
